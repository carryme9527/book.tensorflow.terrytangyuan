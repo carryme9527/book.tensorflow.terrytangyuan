{
 "cells": [
  {
   "cell_type": "code",
   "execution_count": null,
   "metadata": {},
   "outputs": [],
   "source": [
    "import numpy as np\n",
    "import sklearn.preprocessing as prep\n",
    "import tensorflow as tf\n",
    "from tensorflow.examples.tutorials.mnist import input_data"
   ]
  },
  {
   "cell_type": "code",
   "execution_count": null,
   "metadata": {
    "collapsed": true
   },
   "outputs": [],
   "source": [
    "def xavier_init(fan_in, fan_out, constant=1):\n",
    "    low = -constant * np.sqrt(6.0 / (fan_in + fan_out))\n",
    "    high = constant * np.sqrt(6.0 / (fan_in + fan_out))\n",
    "    return tf.random_uniform((fan_in, fan_out),\n",
    "                             minval = low, maxval = high,\n",
    "                             dtype = tf.float32)"
   ]
  },
  {
   "cell_type": "code",
   "execution_count": null,
   "metadata": {},
   "outputs": [],
   "source": [
    "class AdditivetGaussianNoiseAutoencoder(object):\n",
    "    def __init__(self, n_input, n_hidden, transfer_function=tf.nn.softplus, \n",
    "                 optimizer=tf.train.AdamOptimizer(), scale=0.1):\n",
    "        self.n_input = n_input\n",
    "        self.n_hidden = n_hidden\n",
    "        self.transfer = transfer_function\n",
    "        self.scale = tf.placeholder(tf.float32)\n",
    "        self.training_scale = scale\n",
    "        self.weights = self._initialize_weighths()\n",
    "\n",
    "        \n",
    "        self.x = tf.placeholder(tf.float32, [None, self.n_input])\n",
    "        self.hidden =\\\n",
    "            self.transfer(\n",
    "                tf.add(\n",
    "                    tf.matmul(\n",
    "                        self.x + scale * tf.random_normal((n_input,)),\n",
    "                        self.weights['w1']\n",
    "                    ),\n",
    "                    self.weights['b1']\n",
    "                )\n",
    "            )\n",
    "        self.reconstruction =\\\n",
    "            tf.add(\n",
    "                tf.matmul(\n",
    "                    self.hidden,\n",
    "                    self.weights['w2']\n",
    "                ),\n",
    "                self.weights['b2']\n",
    "            )\n",
    "\n",
    "            \n",
    "        self.cost =\\\n",
    "            0.5 *\\\n",
    "            tf.reduce_sum(\n",
    "                tf.pow(\n",
    "                    tf.subtract(\n",
    "                        self.reconstruction,\n",
    "                        self.x\n",
    "                    ),\n",
    "                    2.0\n",
    "                )\n",
    "            )\n",
    "        self.optimizer = optimizer.minimize(self.cost)\n",
    "        \n",
    "        init = tf.global_variables_initializer()\n",
    "        self.sess = tf.Session()\n",
    "        self.sess.run(init)\n",
    "        \n",
    "    def _initialize_weighths(self):\n",
    "        all_weights = dict()\n",
    "        all_weights['w1'] = tf.Variable(xavier_init(self.n_input, self.n_hidden))\n",
    "        all_weights['b1'] = tf.Variable(tf.zeros([self.n_hidden]), dtype=tf.float32)\n",
    "        all_weights['w2'] = tf.Variable(tf.zeros([self.n_hidden, self.n_input]), dtype=tf.float32)\n",
    "        all_weights['b2'] = tf.Variable(tf.zeros([self.n_input]), dtype=tf.float32)\n",
    "        return all_weights\n",
    "    \n",
    "    def partial_fit(self, X):\n",
    "        cost, opt = self.sess.run((self.cost, self.optimizer),\n",
    "                                  feed_dict = {\n",
    "                                      self.x: X,\n",
    "                                      self.scale: self.training_scale,\n",
    "                                  })\n",
    "        return cost\n",
    "    \n",
    "    def calc_total_cost(self, X):\n",
    "        return self.sess.run(self.cost, feed_dict = {\n",
    "            self.x: X,\n",
    "            self.scale: self.training_scale,\n",
    "        })\n",
    "    \n",
    "    def transform(self, X):\n",
    "        return self.sess.run(self.hidden, feed_dict = {\n",
    "            self.x: X,\n",
    "            self.scale: self.training_scale,\n",
    "        })\n",
    "    \n",
    "    def generate(self, hidden = None):\n",
    "        if hidden is None:\n",
    "            hidden = n.random.normal(size = self.weights['b1'])\n",
    "        return self.sess.run(self.reconstruction, feed_dict = {\n",
    "            self.hidden: hidden,\n",
    "        })\n",
    "    \n",
    "    def reconstruct(self, X):\n",
    "        return self.sess.run(self.reconstruction, feed_dict = {\n",
    "            self.x: X,\n",
    "            self.scale: self.training_scale,\n",
    "        })\n",
    "    \n",
    "    def getWeights(self):\n",
    "        return self.sess.run(self.weights['w1'])\n",
    "    \n",
    "    def getBiases(self):\n",
    "        return self.sess.run(self.weights['b1'])"
   ]
  },
  {
   "cell_type": "code",
   "execution_count": null,
   "metadata": {},
   "outputs": [],
   "source": [
    "mnist = input_data.read_data_sets('MNIST_data', one_hot = True)"
   ]
  },
  {
   "cell_type": "code",
   "execution_count": null,
   "metadata": {
    "collapsed": true
   },
   "outputs": [],
   "source": [
    "def standard_scale(X_train, X_test):\n",
    "    preprocessor = prep.StandardScaler().fit(X_train)\n",
    "    X_train = preprocessor.transform(X_train)\n",
    "    X_test = preprocessor.transform(X_train)\n",
    "    return X_train, X_test"
   ]
  },
  {
   "cell_type": "code",
   "execution_count": null,
   "metadata": {
    "collapsed": true
   },
   "outputs": [],
   "source": [
    "def get_random_block_from_data(data, batch_size):\n",
    "    start_index = np.random.randint(0, len(data) - batch_size)\n",
    "    return data[start_index:(start_index + batch_size)]"
   ]
  },
  {
   "cell_type": "code",
   "execution_count": null,
   "metadata": {
    "collapsed": true
   },
   "outputs": [],
   "source": [
    "X_train, X_test = standard_scale(mnist.train.images, mnist.test.images)"
   ]
  },
  {
   "cell_type": "code",
   "execution_count": null,
   "metadata": {
    "collapsed": true
   },
   "outputs": [],
   "source": [
    "n_samples = int(mnist.train.num_examples)\n",
    "training_epochs = 20\n",
    "batch_size = 128\n",
    "display_step = 1"
   ]
  },
  {
   "cell_type": "code",
   "execution_count": null,
   "metadata": {},
   "outputs": [],
   "source": [
    "autoencoder = AdditivetGaussianNoiseAutoencoder(\n",
    "    n_input = 784,\n",
    "    n_hidden = 200,\n",
    "    transfer_function = tf.nn.softplus,\n",
    "    optimizer = tf.train.AdamOptimizer(learning_rate = 0.001),\n",
    "    scale = 0.01,\n",
    ")"
   ]
  },
  {
   "cell_type": "code",
   "execution_count": null,
   "metadata": {},
   "outputs": [],
   "source": [
    "for epoch in range(training_epochs):\n",
    "    avg_cost = 0\n",
    "    total_batch = int(n_samples / batch_size)\n",
    "    for i in range(total_batch):\n",
    "        batch_xs = get_random_block_from_data(X_train, batch_size)\n",
    "        cost = autoencoder.partial_fit(batch_xs)\n",
    "        avg_cost += cost / n_samples * batch_size\n",
    "        \n",
    "    if epoch % display_step == 0:\n",
    "        print 'Epoch', '%04d' % (epoch + 1), 'cost=', '{:.9f}'.format(avg_cost)"
   ]
  },
  {
   "cell_type": "code",
   "execution_count": null,
   "metadata": {},
   "outputs": [],
   "source": [
    "print 'Total cost:', str(autoencoder.calc_total_cost(X_test))"
   ]
  }
 ],
 "metadata": {
  "kernelspec": {
   "display_name": "Python 2",
   "language": "python",
   "name": "python2"
  },
  "language_info": {
   "codemirror_mode": {
    "name": "ipython",
    "version": 2
   },
   "file_extension": ".py",
   "mimetype": "text/x-python",
   "name": "python",
   "nbconvert_exporter": "python",
   "pygments_lexer": "ipython2",
   "version": "2.7.13"
  }
 },
 "nbformat": 4,
 "nbformat_minor": 2
}
